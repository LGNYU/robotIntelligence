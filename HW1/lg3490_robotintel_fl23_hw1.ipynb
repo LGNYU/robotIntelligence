{
  "cells": [
    {
      "cell_type": "markdown",
      "metadata": {
        "id": "BbtOQkrv_nn7"
      },
      "source": [
        "# Introduction to Robot Intelligence HW 1: Coding Questions\n",
        "\n",
        "The is the coding potion of Homework 1. These questions are aimed at testing your ability to code up fundamental mathematical operations using Python and the numpy library.\n",
        "\n",
        "For submission instructions, please see the theory portion of Homework 1."
      ]
    },
    {
      "cell_type": "code",
      "execution_count": 1,
      "metadata": {
        "id": "p5haE8Nt_nn8"
      },
      "outputs": [
        {
          "name": "stdout",
          "output_type": "stream",
          "text": [
            "Intel MKL WARNING: Support of Intel(R) Streaming SIMD Extensions 4.2 (Intel(R) SSE4.2) enabled only processors has been deprecated. Intel oneAPI Math Kernel Library 2025.0 will require Intel(R) Advanced Vector Extensions (Intel(R) AVX) instructions.\n",
            "Intel MKL WARNING: Support of Intel(R) Streaming SIMD Extensions 4.2 (Intel(R) SSE4.2) enabled only processors has been deprecated. Intel oneAPI Math Kernel Library 2025.0 will require Intel(R) Advanced Vector Extensions (Intel(R) AVX) instructions.\n"
          ]
        }
      ],
      "source": [
        "import numpy as np\n",
        "import math"
      ]
    },
    {
      "cell_type": "markdown",
      "metadata": {
        "id": "taCvPlvW_nn9"
      },
      "source": [
        "## Part 1 : Solve Systems of linear equations\n",
        "\n",
        "Given n linear equations with at most `n` unknown variables, write a function `solve_system` that can solve an arbitrary system of equations. Your function should output a single vector of values that satisfies the system. You may assume that `n <= 4`.\n",
        "\n",
        "The system of equations will be provided as a list of strings as seen in `test_eq`. You may also assume that the variables will always be denoted as `a`, `b`, `c`, and `d`.\n"
      ]
    },
    {
      "cell_type": "code",
      "execution_count": 2,
      "metadata": {
        "id": "X4jNegxt_nn9"
      },
      "outputs": [],
      "source": [
        "def parse_equations(equations):\n",
        "\n",
        "  variables = set()\n",
        "  coefficients_list = []\n",
        "  constants_list = []\n",
        "\n",
        "\n",
        "  for equation_str in equations:\n",
        "\n",
        "    coefficients = {}\n",
        "    constant = None\n",
        "\n",
        "    equation_str = equation_str.replace(' ', '')\n",
        "\n",
        "    equation_parts = equation_str.split('=')\n",
        "    left_side = equation_parts[0].strip()\n",
        "    new_left_side = ''\n",
        "    for e in left_side:\n",
        "      if e == '-':\n",
        "        new_left_side += '+-'\n",
        "      else:\n",
        "        new_left_side += e\n",
        "    left_side = new_left_side\n",
        "    left_side_terms = left_side.split('+')\n",
        "\n",
        "    right_side = equation_parts[1].strip()\n",
        "\n",
        "    for term in left_side_terms:\n",
        "      term = term.strip()\n",
        "      if term:\n",
        "        variable = term[-1]\n",
        "        variables.add(variable)\n",
        "\n",
        "        if term[:-1] == '':\n",
        "          coefficient = 1\n",
        "        elif term[:-1] == '-':\n",
        "          coefficient = -1\n",
        "        else:\n",
        "          coefficient = float(term[:-1])\n",
        "\n",
        "        coefficients[variable] = coefficients.get(variable, 0.0) + coefficient\n",
        "\n",
        "    constant = float(right_side)\n",
        "\n",
        "    coefficients_list.append(coefficients)\n",
        "    constants_list.append(constant)\n",
        "\n",
        "  variables = list(variables)\n",
        "  variables.sort()\n",
        "\n",
        "  num_equations = len(equations)\n",
        "  num_variables = len(variables)\n",
        "  A = np.zeros((num_equations, num_variables))\n",
        "  b = np.array(constants_list)\n",
        "\n",
        "  for i in range(len(coefficients_list)):\n",
        "    for j, variable in enumerate(variables):\n",
        "      A[i, j] = coefficients_list[i].get(variable, 0.0)\n",
        "  return A, b\n",
        "\n",
        "def solve_system(equations):\n",
        "  \"\"\"\"\n",
        "  Takes in a list of strings for each equation.\n",
        "  Returns a numpy array with a row for each equation value\n",
        "  \"\"\"\n",
        "  # TODO: Start\n",
        "  A, b = parse_equations(equations)\n",
        "  try:\n",
        "    x = np.linalg.solve(A, b)\n",
        "    x = x[:, np.newaxis]\n",
        "    return x\n",
        "  except np.linalg.LinAlgError:\n",
        "    # Handle cases where the system is singular (no unique solution)\n",
        "    return None\n",
        "  # TODO: End\n"
      ]
    },
    {
      "cell_type": "code",
      "execution_count": 3,
      "metadata": {
        "id": "0HCoxuFT_nn-"
      },
      "outputs": [],
      "source": [
        "def test_eq():\n",
        "  sys_eq = ['2 a + b - 3 c + d = 9',\n",
        "            '-5 a + 1 b - 4 c + d = -14',\n",
        "            'a + 2 b - 10 c = -7',\n",
        "            'a + 2 b = 13']\n",
        "  results = solve_system(sys_eq)\n",
        "  expected = np.array([[3],[5],[2],[4]])\n",
        "\n",
        "  assert(np.all(abs(expected-results) < 1e-10 ))"
      ]
    },
    {
      "cell_type": "code",
      "execution_count": 4,
      "metadata": {
        "id": "pKrBLnFD_nn-"
      },
      "outputs": [],
      "source": [
        "test_eq()"
      ]
    },
    {
      "cell_type": "markdown",
      "metadata": {
        "id": "xexyL2Jq_nn-"
      },
      "source": [
        "## Part 2 : Split a dataset into test and train\n",
        "\n",
        "In supervised learning, the dataset is usually split into a train set (on which the model is trained) and a test set (to evaluate the trained model). This part of the homework requires writing a function `split_into_train_and_test` that takes a dataset and the test-train split ration as input, and provides the data split as an output. The function takes a `random_state` variable as input, which when kept the same outputs precisely the same split for arbitrary runs of the function."
      ]
    },
    {
      "cell_type": "code",
      "execution_count": 5,
      "metadata": {
        "id": "zHZNUbEV_nn-"
      },
      "outputs": [],
      "source": [
        "def split_into_train_and_test(x_all_LF, frac_test=0.5, random_state=None):\n",
        "    ''' Divide provided array into train and test sets along first dimension\n",
        "    User can provide random number generator object to ensure reproducibility.\n",
        "    Args\n",
        "    ----\n",
        "    x_all_LF : 2D np.array, shape = (n_total_examples, n_features) (L, F)\n",
        "        Each row is a feature vector\n",
        "    frac_test : float, fraction between 0 and 1\n",
        "        Indicates fraction of all L examples to allocate to the \"test\" set\n",
        "        Returned test set will round UP if frac_test * L is not an integer.\n",
        "        e.g. if L = 10 and frac_test = 0.31, then test set has N=4 examples\n",
        "    random_state : np.random.RandomState instance or integer or None\n",
        "        If int, will create RandomState instance with provided value as seed\n",
        "        If None, defaults to current numpy random number generator np.random.\n",
        "    Returns\n",
        "    -------\n",
        "    x_train_MF : 2D np.array, shape = (n_train_examples, n_features) (M, F)\n",
        "        Each row is a feature vector\n",
        "        Should be a separately allocated array, NOT a view of any input array\n",
        "    x_test_NF : 2D np.array, shape = (n_test_examples, n_features) (N, F)\n",
        "        Each row is a feature vector\n",
        "        Should be a separately allocated array, NOT a view of any input array\n",
        "    Post Condition\n",
        "    --------------\n",
        "    This function should be side-effect free. Provided input array x_all_LF\n",
        "    should not change at all (not be shuffled, etc.)\n",
        "    Examples\n",
        "    --------\n",
        "    >>> x_LF = np.eye(10)\n",
        "    >>> xcopy_LF = x_LF.copy() # preserve what input was before the call\n",
        "    >>> train_MF, test_NF = split_into_train_and_test(\n",
        "    ...     x_LF, frac_test=0.201, random_state=np.random.RandomState(0))\n",
        "    >>> train_MF.shape\n",
        "    (7, 10)\n",
        "    >>> test_NF.shape\n",
        "    (3, 10)\n",
        "    >>> print(train_MF)\n",
        "    [[0. 0. 1. 0. 0. 0. 0. 0. 0. 0.]\n",
        "     [0. 0. 0. 0. 0. 0. 0. 0. 1. 0.]\n",
        "     [0. 0. 0. 0. 1. 0. 0. 0. 0. 0.]\n",
        "     [0. 0. 0. 0. 0. 0. 0. 0. 0. 1.]\n",
        "     [0. 1. 0. 0. 0. 0. 0. 0. 0. 0.]\n",
        "     [0. 0. 0. 0. 0. 0. 1. 0. 0. 0.]\n",
        "     [0. 0. 0. 0. 0. 0. 0. 1. 0. 0.]]\n",
        "    >>> print(test_NF)\n",
        "    [[0. 0. 0. 1. 0. 0. 0. 0. 0. 0.]\n",
        "     [1. 0. 0. 0. 0. 0. 0. 0. 0. 0.]\n",
        "     [0. 0. 0. 0. 0. 1. 0. 0. 0. 0.]]\n",
        "    ## Verify that input array did not change due to function call\n",
        "    >>> np.allclose(x_LF, xcopy_LF)\n",
        "    True\n",
        "    References\n",
        "    ----------\n",
        "    For more about RandomState, see:\n",
        "    https://stackoverflow.com/questions/28064634/random-state-pseudo-random-numberin-scikit-learn\n",
        "    '''\n",
        "    if random_state is None:\n",
        "        random_state = np.random\n",
        "    # TODO: Start\n",
        "    num_samples = x_all_LF.shape[0]\n",
        "    num_test = math.ceil(frac_test * num_samples)\n",
        "\n",
        "    test_indices = random_state.choice(num_samples, num_test, replace=False)\n",
        "\n",
        "    test_mask = np.zeros(num_samples, dtype=bool)\n",
        "    test_mask[test_indices] = True\n",
        "    train_mask = ~test_mask\n",
        "\n",
        "    train_samples = x_all_LF[train_mask]\n",
        "    test_samples = x_all_LF[test_mask]\n",
        "    return train_samples, test_samples\n",
        "    # TODO: End\n"
      ]
    },
    {
      "cell_type": "code",
      "execution_count": 6,
      "metadata": {
        "colab": {
          "base_uri": "https://localhost:8080/"
        },
        "id": "aa773WSkpSV1",
        "outputId": "fa179896-e407-4902-b5cb-b827620b945a"
      },
      "outputs": [
        {
          "name": "stdout",
          "output_type": "stream",
          "text": [
            "(7, 10)\n",
            "(3, 10)\n",
            "[[1. 0. 0. 0. 0. 0. 0. 0. 0. 0.]\n",
            " [0. 1. 0. 0. 0. 0. 0. 0. 0. 0.]\n",
            " [0. 0. 0. 1. 0. 0. 0. 0. 0. 0.]\n",
            " [0. 0. 0. 0. 0. 1. 0. 0. 0. 0.]\n",
            " [0. 0. 0. 0. 0. 0. 1. 0. 0. 0.]\n",
            " [0. 0. 0. 0. 0. 0. 0. 1. 0. 0.]\n",
            " [0. 0. 0. 0. 0. 0. 0. 0. 0. 1.]]\n",
            "[[0. 0. 1. 0. 0. 0. 0. 0. 0. 0.]\n",
            " [0. 0. 0. 0. 1. 0. 0. 0. 0. 0.]\n",
            " [0. 0. 0. 0. 0. 0. 0. 0. 1. 0.]]\n"
          ]
        }
      ],
      "source": [
        "x_LF = np.eye(10)\n",
        "xcopy_LF = x_LF.copy()\n",
        "train_MF, test_NF = split_into_train_and_test(x_LF, frac_test=0.201, random_state=np.random.RandomState(0))\n",
        "print(train_MF.shape)\n",
        "print(test_NF.shape)\n",
        "print(train_MF)\n",
        "print(test_NF)"
      ]
    },
    {
      "cell_type": "markdown",
      "metadata": {
        "id": "PcHwfkga_nn_"
      },
      "source": [
        "### Part 3: Solving a Search Problem\n",
        "\n",
        "In this problem, given a list of N intervals, we want to find the closest non-overlapping interval greater than each interval in the dataset. The function `closest_interval` takes in the list of intervals and return a list of indices corresponding to the index of the closest interval for each element in the list. If a particular interval does not have a closest non-overlapping interval in the given list, return `-1` corresponding to that element in the list."
      ]
    },
    {
      "cell_type": "code",
      "execution_count": 7,
      "metadata": {
        "id": "Ac_Ijh2j_nn_"
      },
      "outputs": [],
      "source": [
        "def closest_interval(intervals):\n",
        "    #TODO: Start\n",
        "    results = np.array([-1 for _ in range(len(intervals))])\n",
        "    for i in range(len(intervals)):\n",
        "      upper = intervals[i][1]\n",
        "      closest_index = -1\n",
        "      closest_lower = float('inf')\n",
        "      for j in range(len(intervals)):\n",
        "        if intervals[j][0] > upper and intervals[j][0] < closest_lower:\n",
        "          closest_index = j\n",
        "          closest_lower = intervals[j][0]\n",
        "      results[i] = closest_index\n",
        "    return results\n",
        "    # TODO: End"
      ]
    },
    {
      "cell_type": "code",
      "execution_count": 8,
      "metadata": {
        "colab": {
          "base_uri": "https://localhost:8080/"
        },
        "id": "MidqRMRB_noA",
        "outputId": "ba5fd2e2-6ef8-460f-d0b0-125b4c66ed56"
      },
      "outputs": [
        {
          "name": "stdout",
          "output_type": "stream",
          "text": [
            "[ 7  3 -1  4 -1  7 -1  2]\n"
          ]
        }
      ],
      "source": [
        "intervals = np.array([[1, 4],\n",
        "                      [2, 5],\n",
        "                      [8, 9],\n",
        "                      [6, 8],\n",
        "                      [9, 10],\n",
        "                      [3, 4],\n",
        "                      [7, 9],\n",
        "                      [5, 7]])\n",
        "\n",
        "expected_closest_intervals = closest_interval(intervals)\n",
        "print(expected_closest_intervals)\n",
        "\n",
        "# Evaluate\n",
        "results = np.array([7, 3, -1, 4, -1, 7, -1, 2])\n",
        "assert(np.all(abs(expected_closest_intervals-results) < 1e-10 ))"
      ]
    }
  ],
  "metadata": {
    "colab": {
      "provenance": []
    },
    "kernelspec": {
      "display_name": "Python 3.8.13 ('mlug')",
      "language": "python",
      "name": "python3"
    },
    "language_info": {
      "codemirror_mode": {
        "name": "ipython",
        "version": 3
      },
      "file_extension": ".py",
      "mimetype": "text/x-python",
      "name": "python",
      "nbconvert_exporter": "python",
      "pygments_lexer": "ipython3",
      "version": "3.9.7"
    },
    "orig_nbformat": 4,
    "vscode": {
      "interpreter": {
        "hash": "fc6f77fc95e5420108aa348103e4498d1d0de016cf7e1fd7da540445454c305d"
      }
    }
  },
  "nbformat": 4,
  "nbformat_minor": 0
}
